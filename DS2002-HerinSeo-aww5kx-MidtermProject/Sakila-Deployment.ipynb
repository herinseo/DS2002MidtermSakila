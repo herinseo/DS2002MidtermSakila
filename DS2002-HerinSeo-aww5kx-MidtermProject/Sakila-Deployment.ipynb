{
 "cells": [
  {
   "cell_type": "markdown",
   "id": "27710fee",
   "metadata": {},
   "source": [
    "## Deployment Strategy and Steps for Sakila DB\n",
    "This markdown file includes the steps that should be followed in order to replicate the results of this midterm project.\n",
    "\n",
    "### 1. MySQL Workbench:\n",
    "#### a) Download the sakila-db-sql folder, then open sakila-schema.sql and sakila-data.sql in MySQL Workbench to start up the sakila schema (database).\n",
    "#### b) Run sakila-schema.sql, then sakila-data.sql.\n",
    "#### c) Still in MySQL Workbench, open the create_sakila_dims.sql and run the file to create the dimension tables and fact table.\n",
    "#### d) Open populate_DimDate.sql and run the file to populate the date dimension table.\n",
    "\n",
    "### 2. Transporting Sakila database tables from MySQL Workbench to No-SQL MongoDB:\n",
    "#### a) To export all tables, open exporting_as_json.sql in MySQL Workbench\n",
    "#### b) Run each SELECT command individually and export each table output. These files have already been exported into the sakila-db-json folder as JSON files.\n",
    "\n",
    "### 3. No-SQL MongoDB:\n",
    "#### a) Open the Sakila-MongoDB.ipynb file and run all cells in order.\n",
    "#### b) NOTE: the user and passwords for connection should be changed in order to view database loaded onto personal server.\n",
    "#### c) The database shown in MongoDB should be the complete DB with all tables, dim tables, and fact tables!"
   ]
  }
 ],
 "metadata": {
  "kernelspec": {
   "display_name": "Python 3 (ipykernel)",
   "language": "python",
   "name": "python3"
  },
  "language_info": {
   "codemirror_mode": {
    "name": "ipython",
    "version": 3
   },
   "file_extension": ".py",
   "mimetype": "text/x-python",
   "name": "python",
   "nbconvert_exporter": "python",
   "pygments_lexer": "ipython3",
   "version": "3.11.5"
  }
 },
 "nbformat": 4,
 "nbformat_minor": 5
}
